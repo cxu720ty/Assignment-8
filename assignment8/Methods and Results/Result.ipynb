{
 "cells": [
  {
   "cell_type": "markdown",
   "metadata": {},
   "source": [
    "## Results\n",
    "It seems that the **Wolfgang Reitherman** is very productive"
   ]
  },
  {
   "cell_type": "markdown",
   "metadata": {},
   "source": [
    "![result](../result.png)"
   ]
  },
  {
   "cell_type": "markdown",
   "metadata": {},
   "source": [
    "Now it's time to answer the original question. Which directors have the most inflation gross of average of each movie? To do this, I will make a new dataframe by merging **avg_inflation_gross_by_director** and **movie_count**"
   ]
  },
  {
   "cell_type": "code",
   "execution_count": 1,
   "metadata": {},
   "outputs": [],
   "source": [
    "# Lets import all the required libraries needed for this analysis\n",
    "import altair as alt\n",
    "import pandas as pd\n",
    "import numpy as np\n",
    "# import all the required files\n",
    "total_gross = pd.read_csv(\"data/disney_movies_total_gross.csv\")\n",
    "movie_director = pd.read_csv(\"data/disney-director.csv\")\n",
    "# import the custom script"
   ]
  },
  {
   "cell_type": "code",
   "execution_count": 9,
   "metadata": {},
   "outputs": [
    {
     "data": {
      "text/html": [
       "<div>\n",
       "<style scoped>\n",
       "    .dataframe tbody tr th:only-of-type {\n",
       "        vertical-align: middle;\n",
       "    }\n",
       "\n",
       "    .dataframe tbody tr th {\n",
       "        vertical-align: top;\n",
       "    }\n",
       "\n",
       "    .dataframe thead th {\n",
       "        text-align: right;\n",
       "    }\n",
       "</style>\n",
       "<table border=\"1\" class=\"dataframe\">\n",
       "  <thead>\n",
       "    <tr style=\"text-align: right;\">\n",
       "      <th></th>\n",
       "      <th>director</th>\n",
       "      <th>inflation_adjusted_gross</th>\n",
       "    </tr>\n",
       "  </thead>\n",
       "  <tbody>\n",
       "    <tr>\n",
       "      <th>0</th>\n",
       "      <td>Art Stevens</td>\n",
       "      <td>1.331189e+08</td>\n",
       "    </tr>\n",
       "    <tr>\n",
       "      <th>1</th>\n",
       "      <td>Barry Cook</td>\n",
       "      <td>2.168078e+08</td>\n",
       "    </tr>\n",
       "    <tr>\n",
       "      <th>2</th>\n",
       "      <td>Ben Sharpsteen</td>\n",
       "      <td>2.188229e+09</td>\n",
       "    </tr>\n",
       "    <tr>\n",
       "      <th>3</th>\n",
       "      <td>Byron Howard</td>\n",
       "      <td>3.412682e+08</td>\n",
       "    </tr>\n",
       "    <tr>\n",
       "      <th>4</th>\n",
       "      <td>Chris Buck</td>\n",
       "      <td>3.494487e+08</td>\n",
       "    </tr>\n",
       "  </tbody>\n",
       "</table>\n",
       "</div>"
      ],
      "text/plain": [
       "         director  inflation_adjusted_gross\n",
       "0     Art Stevens              1.331189e+08\n",
       "1      Barry Cook              2.168078e+08\n",
       "2  Ben Sharpsteen              2.188229e+09\n",
       "3    Byron Howard              3.412682e+08\n",
       "4      Chris Buck              3.494487e+08"
      ]
     },
     "execution_count": 9,
     "metadata": {},
     "output_type": "execute_result"
    }
   ],
   "source": [
    "#get year from releasae date, and add year column back to the dataset total_gross\n",
    "# group by year and compute the average inflation adjusted gross.\n",
    "\n",
    "#total_gross['year'] = pd.DatetimeIndex(total_gross['release_date']).year\n",
    "#total_gross=total_gross.assign(year = pd.DatetimeIndex(total_gross['release_date']).year)\n",
    "direct_gross=total_gross.merge(movie_director, left_on='movie_title', right_on='name', how='left', indicator=True)\n",
    "direct_gross['inflation_adjusted_gross'] =direct_gross['inflation_adjusted_gross'].replace({'\\$': '', ',': ''}, regex=True).astype(float)\n",
    "avg_inflation_gross_by_director = pd.DataFrame(direct_gross.groupby('director')['inflation_adjusted_gross'].mean().sort_values(ascending=False)).sort_values(by='director', ascending=True)\n",
    "avg_inflation_gross_by_director =avg_inflation_gross_by_director.reset_index()\n",
    "avg_inflation_gross_by_director.head()\n"
   ]
  },
  {
   "cell_type": "code",
   "execution_count": 18,
   "metadata": {},
   "outputs": [],
   "source": [
    "# import the custom script\n",
    "import script as scpt\n"
   ]
  },
  {
   "cell_type": "code",
   "execution_count": 19,
   "metadata": {},
   "outputs": [
    {
     "ename": "NameError",
     "evalue": "name 'action_col' is not defined",
     "output_type": "error",
     "traceback": [
      "\u001b[1;31m---------------------------------------------------------------------------\u001b[0m",
      "\u001b[1;31mNameError\u001b[0m                                 Traceback (most recent call last)",
      "Cell \u001b[1;32mIn[19], line 2\u001b[0m\n\u001b[0;32m      1\u001b[0m movies_with_director \u001b[38;5;241m=\u001b[39m direct_gross\u001b[38;5;241m.\u001b[39mdropna(subset\u001b[38;5;241m=\u001b[39m[\u001b[38;5;124m\"\u001b[39m\u001b[38;5;124mdirector\u001b[39m\u001b[38;5;124m\"\u001b[39m])\n\u001b[1;32m----> 2\u001b[0m movie_count \u001b[38;5;241m=\u001b[39m \u001b[43mscpt\u001b[49m\u001b[38;5;241;43m.\u001b[39;49m\u001b[43mcount_movie\u001b[49m\u001b[43m(\u001b[49m\u001b[43mmovies_with_director\u001b[49m\u001b[43m,\u001b[49m\u001b[43m \u001b[49m\u001b[38;5;124;43m'\u001b[39;49m\u001b[38;5;124;43mdirector\u001b[39;49m\u001b[38;5;124;43m'\u001b[39;49m\u001b[43m,\u001b[49m\u001b[38;5;124;43m'\u001b[39;49m\u001b[38;5;124;43mmovie_title\u001b[39;49m\u001b[38;5;124;43m'\u001b[39;49m\u001b[43m \u001b[49m\u001b[43m)\u001b[49m\n\u001b[0;32m      4\u001b[0m director_count_gross \u001b[38;5;241m=\u001b[39m avg_inflation_gross_by_director\u001b[38;5;241m.\u001b[39mmerge(movie_count, left_on\u001b[38;5;241m=\u001b[39m\u001b[38;5;124m'\u001b[39m\u001b[38;5;124mdirector\u001b[39m\u001b[38;5;124m'\u001b[39m, right_on\u001b[38;5;241m=\u001b[39m\u001b[38;5;124m'\u001b[39m\u001b[38;5;124mdirector\u001b[39m\u001b[38;5;124m'\u001b[39m, how\u001b[38;5;241m=\u001b[39m\u001b[38;5;124m'\u001b[39m\u001b[38;5;124mleft\u001b[39m\u001b[38;5;124m'\u001b[39m, indicator\u001b[38;5;241m=\u001b[39m\u001b[38;5;28;01mTrue\u001b[39;00m)\n\u001b[0;32m      5\u001b[0m director_count_gross  \u001b[38;5;241m=\u001b[39mdirector_count_gross\u001b[38;5;241m.\u001b[39massign(director_avg_gross_per_movie\u001b[38;5;241m=\u001b[39mdirector_count_gross[\u001b[38;5;124m'\u001b[39m\u001b[38;5;124minflation_adjusted_gross\u001b[39m\u001b[38;5;124m'\u001b[39m] \u001b[38;5;241m*\u001b[39mdirector_count_gross[\u001b[38;5;124m'\u001b[39m\u001b[38;5;124mcount\u001b[39m\u001b[38;5;124m'\u001b[39m])\n",
      "File \u001b[1;32m~\\Assignment-8\\assignment8\\Methods and Results\\script.py:46\u001b[0m, in \u001b[0;36mcount_movie\u001b[1;34m(data, grouping_col, count_col)\u001b[0m\n\u001b[0;32m     43\u001b[0m \u001b[38;5;28;01massert\u001b[39;00m grouping_col \u001b[38;5;129;01min\u001b[39;00m data\u001b[38;5;241m.\u001b[39mcolumns, \u001b[38;5;124m\"\u001b[39m\u001b[38;5;124mThe grouping column does not exist in the dataframe\u001b[39m\u001b[38;5;124m\"\u001b[39m\n\u001b[0;32m     45\u001b[0m \u001b[38;5;66;03m# Tests that the the action column is in the dataframe\u001b[39;00m\n\u001b[1;32m---> 46\u001b[0m \u001b[38;5;28;01massert\u001b[39;00m \u001b[43maction_col\u001b[49m \u001b[38;5;129;01min\u001b[39;00m data\u001b[38;5;241m.\u001b[39mcolumns, \u001b[38;5;124m\"\u001b[39m\u001b[38;5;124mThe action column does not exist in the dataframe\u001b[39m\u001b[38;5;124m\"\u001b[39m\n\u001b[0;32m     49\u001b[0m \u001b[38;5;66;03m# compute the groupby object\u001b[39;00m\n\u001b[0;32m     50\u001b[0m tot_movie \u001b[38;5;241m=\u001b[39m data\u001b[38;5;241m.\u001b[39mgroupby(grouping_col)[count_col]\u001b[38;5;241m.\u001b[39magg([\u001b[38;5;124m'\u001b[39m\u001b[38;5;124mcount\u001b[39m\u001b[38;5;124m'\u001b[39m])\n",
      "\u001b[1;31mNameError\u001b[0m: name 'action_col' is not defined"
     ]
    }
   ],
   "source": [
    "movies_with_director = direct_gross.dropna(subset=[\"director\"])\n",
    "movie_count = scpt.count_movie(movies_with_director, 'director','movie_title' )\n",
    "\n",
    "director_count_gross = avg_inflation_gross_by_director.merge(movie_count, left_on='director', right_on='director', how='left', indicator=True)\n",
    "director_count_gross  =director_count_gross.assign(director_avg_gross_per_movie=director_count_gross['inflation_adjusted_gross'] *director_count_gross['count'])\n",
    "director_count_gross\n",
    "\n",
    "#director_count_gross_max = director_count_gross['director_avg_gross_per_movie'].max()\n",
    "director_count_gross_max=director_count_gross.loc[director_count_gross['director_avg_gross_per_movie'] == director_count_gross['director_avg_gross_per_movie'].max()]\n",
    "director_count_gross_max"
   ]
  },
  {
   "cell_type": "markdown",
   "metadata": {},
   "source": [
    "It seems that in fact it is **Davied Hand** has max average inflation gross per movie. "
   ]
  },
  {
   "cell_type": "markdown",
   "metadata": {},
   "source": [
    "![result](../davidhand.png)"
   ]
  },
  {
   "cell_type": "markdown",
   "metadata": {},
   "source": [
    "we can take a look at the chart of each director's inflation gross. "
   ]
  },
  {
   "cell_type": "code",
   "execution_count": 17,
   "metadata": {},
   "outputs": [
    {
     "ename": "NameError",
     "evalue": "name 'director_count_gross' is not defined",
     "output_type": "error",
     "traceback": [
      "\u001b[1;31m---------------------------------------------------------------------------\u001b[0m",
      "\u001b[1;31mNameError\u001b[0m                                 Traceback (most recent call last)",
      "Cell \u001b[1;32mIn[17], line 3\u001b[0m\n\u001b[0;32m      1\u001b[0m \u001b[38;5;66;03m# Visualize the top 20 themes with the most sets using a bar plot.\u001b[39;00m\n\u001b[0;32m      2\u001b[0m director_count_gross_plot \u001b[38;5;241m=\u001b[39m (\n\u001b[1;32m----> 3\u001b[0m     alt\u001b[38;5;241m.\u001b[39mChart(\u001b[43mdirector_count_gross\u001b[49m, width\u001b[38;5;241m=\u001b[39m\u001b[38;5;241m500\u001b[39m, height\u001b[38;5;241m=\u001b[39m\u001b[38;5;241m300\u001b[39m)\n\u001b[0;32m      4\u001b[0m     \u001b[38;5;241m.\u001b[39mmark_bar()\n\u001b[0;32m      5\u001b[0m     \u001b[38;5;241m.\u001b[39mencode(\n\u001b[0;32m      6\u001b[0m         x\u001b[38;5;241m=\u001b[39malt\u001b[38;5;241m.\u001b[39mX(\u001b[38;5;124m\"\u001b[39m\u001b[38;5;124mdirector:N\u001b[39m\u001b[38;5;124m\"\u001b[39m, title\u001b[38;5;241m=\u001b[39m\u001b[38;5;124m\"\u001b[39m\u001b[38;5;124mDirectors\u001b[39m\u001b[38;5;124m\"\u001b[39m, sort\u001b[38;5;241m=\u001b[39m\u001b[38;5;124m\"\u001b[39m\u001b[38;5;124m-y\u001b[39m\u001b[38;5;124m\"\u001b[39m),\n\u001b[0;32m      7\u001b[0m         y\u001b[38;5;241m=\u001b[39malt\u001b[38;5;241m.\u001b[39mY(\u001b[38;5;124m\"\u001b[39m\u001b[38;5;124mdirector_avg_gross_per_movie:Q\u001b[39m\u001b[38;5;124m\"\u001b[39m, title\u001b[38;5;241m=\u001b[39m\u001b[38;5;124m\"\u001b[39m\u001b[38;5;124mInflation per Movie\u001b[39m\u001b[38;5;124m\"\u001b[39m),\n\u001b[0;32m      8\u001b[0m     )\n\u001b[0;32m      9\u001b[0m     \u001b[38;5;241m.\u001b[39mproperties(title\u001b[38;5;241m=\u001b[39m\u001b[38;5;124m\"\u001b[39m\u001b[38;5;124mDirector Average per Movie (Adjusted for Inflation)\u001b[39m\u001b[38;5;124m\"\u001b[39m)\n\u001b[0;32m     10\u001b[0m )\n\u001b[0;32m     11\u001b[0m director_count_gross_plot\n",
      "\u001b[1;31mNameError\u001b[0m: name 'director_count_gross' is not defined"
     ]
    }
   ],
   "source": [
    "# Visualize the top 20 themes with the most sets using a bar plot.\n",
    "director_count_gross_plot = (\n",
    "    alt.Chart(director_count_gross, width=500, height=300)\n",
    "    .mark_bar()\n",
    "    .encode(\n",
    "        x=alt.X(\"director:N\", title=\"Directors\", sort=\"-y\"),\n",
    "        y=alt.Y(\"director_avg_gross_per_movie:Q\", title=\"Inflation per Movie\"),\n",
    "    )\n",
    "    .properties(title=\"Director Average per Movie (Adjusted for Inflation)\")\n",
    ")\n",
    "director_count_gross_plot"
   ]
  },
  {
   "cell_type": "code",
   "execution_count": null,
   "metadata": {},
   "outputs": [],
   "source": []
  }
 ],
 "metadata": {
  "kernelspec": {
   "display_name": "Python 3 (ipykernel)",
   "language": "python",
   "name": "python3"
  },
  "language_info": {
   "codemirror_mode": {
    "name": "ipython",
    "version": 3
   },
   "file_extension": ".py",
   "mimetype": "text/x-python",
   "name": "python",
   "nbconvert_exporter": "python",
   "pygments_lexer": "ipython3",
   "version": "3.9.13"
  }
 },
 "nbformat": 4,
 "nbformat_minor": 4
}
